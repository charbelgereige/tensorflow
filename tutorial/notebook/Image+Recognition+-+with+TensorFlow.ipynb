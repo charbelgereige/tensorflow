{
 "cells": [
  {
   "cell_type": "markdown",
   "metadata": {},
   "source": [
    "# Tensorflows Image Recognition of handwritten digits"
   ]
  },
  {
   "cell_type": "markdown",
   "metadata": {},
   "source": [
    "## Machine learning\n",
    "<img src=machine-learning-supervised-vs-unsupervised-learning.png/>\n",
    "\n",
    "### Regression example: \n",
    "Can we estimate property prices from the superficies?\n",
    "<img src=regression.png />"
   ]
  },
  {
   "cell_type": "markdown",
   "metadata": {},
   "source": [
    "## Deep Learning and Neural Networks\n",
    "\n",
    "## Reading\n",
    "How does the human mind recognize hand writing?"
   ]
  },
  {
   "cell_type": "code",
   "execution_count": 18,
   "metadata": {
    "collapsed": false
   },
   "outputs": [
    {
     "data": {
      "image/png": "[encoded data removed]",
      "text/plain": [
       "<IPython.core.display.Image object>"
      ]
     },
     "execution_count": 18,
     "metadata": {},
     "output_type": "execute_result"
    }
   ],
   "source": [
    "from IPython.display import Image\n",
    "Image(filename='1.png') \n",
    "#Image(filename='2.png') \n",
    "#Image(filename='b.png') \n"
   ]
  },
  {
   "cell_type": "markdown",
   "metadata": {},
   "source": [
    "\n",
    "### The training set\n",
    "\n",
    "For hand written digits, we use a database of freely available photos called __MNIST__: Mixed National Institute of Standards and Technology\n",
    "\n",
    "A MNIST data point has two parts: an __image__ of a handwritten digit and a corresponding __label__. We'll call the images \"x\" and the labels \"y\". Both the training set and test set contain images and their corresponding labels; for example the training images are `mnist.train.images` and the training labels are `mnist.train.labels`.\n",
    "\n",
    "The labels represent the digits.. 0 to 9, the images represent a matrix  (28x28 = 784) of numbers to represent the shades of grey:\n",
    "<img src=https://www.tensorflow.org/images/MNIST-Matrix.png width=\"60%\" height=\"60%\" />\n",
    "\n",
    "The MNIST data is split into three parts: 55,000 data points of training data (`mnist.train`), 10,000 points of test data (`mnist.test`), and 5,000 points of validation data (`mnist.validation`). This split is very important: it's essential in machine learning that we have separate data which we don't learn from so that we can make sure that what we've learned actually generalizes!\n",
    "<img src=https://www.tensorflow.org/images/mnist-train-xs.png width=\"35%\" height=\"35%\" />\n",
    "The result is that `mnist.train.images` is a tensor (an n-dimensional array) with a shape of __[55000, 784]__. The first dimension is an index into the list of images and the second dimension is the index for each pixel in each image. Each entry in the tensor is a __pixel intensity between 0 and 1__, for a particular pixel in a particular image.\n",
    "\n",
    "### One hot representation\n",
    " A one-hot vector is a vector which is 0 in most dimensions, and 1 in a single dimension. In this case, the nth digit will be represented as a vector which is 1 in the nth dimension. For example, 3 would be [0,0,0,1,0,0,0,0,0,0]. Consequently, mnist.train.labels is a __[55000, 10]__ array of floats.\n",
    "  To summarize, here are the one-hot representations of the labels:<br>\n",
    "0 = [1,0,0,0,0,0,0,0,0,0]  <br>\n",
    "1 = [0,1,0,0,0,0,0,0,0,0]  <br>\n",
    "2 = [0,0,1,0,0,0,0,0,0,0] <br>\n",
    "...  <br>\n",
    "9 = [0,0,0,0,0,0,0,0,0,1]  <br>\n",
    "\n",
    "\n",
    "### The objective of the training\n",
    "We essentially take the input matrix - x, and then multiply it by a matrix W which we want to discover by training the model. \n",
    "Our results are the one hot representations of the label. So suppose we're looking at an image of 1 then the label representation is the one hot representation of 1 = [0,1,0,0,0,0,0,0,0,0] \n",
    "We need an operation, a mathematical function that gives us:\n",
    "<img src=actual_matrix.png />\n",
    "For example we may get for a certain set of parameters W and b: \n",
    "<img src=actual_res.png />\n",
    "\n",
    "W and b are the parameters of the model, the training is essentially trying to find the values of W and b that allow us to get the minimum difference between the real values of Y and the labels. \n",
    "\n",
    "What does the function look like in practice, something like this: \n",
    "<img src=matrix.png/>\n",
    "\n",
    "Let's define the error as the difference between the actual outcome Y and the expected outcome represented by the label. Our objective becomes simply an exercise of minimizing this error, by changing the parameters W and b. \n",
    "\n",
    "##### Two issues to get sorted\n",
    "The probabilities should add up to 1, and then how to minimize the function.\n",
    " \n",
    "\n",
    "### Softmax Regression \n",
    "We want our model to look at a picture of a nine and be something like 80% sure it's a nine, but it gives a 5% chance to it being an eight (because of the top loop) and a bit of probability to all the others because it isn't 100% sure.\n",
    "\n",
    "This is a classic case where a softmax regression is a natural, simple model. If you want to assign probabilities to an object being one of several different things, softmax is the thing to do, because softmax gives us a list of __values between 0 and 1 that add up to 1__. The intuitive way to understand what softmax does, think of it as a function that exponentiates its inputs and then normalizing them. The exponentiation means that one more unit of evidence increases the weight given to any hypothesis multiplicatively. And conversely, having one less unit of evidence means that a hypothesis gets a fraction of its earlier weight. No hypothesis ever has zero or negative weight. Softmax then normalizes these weights, so that they add up to one, forming a valid probability distribution.\n",
    "\n",
    "More info about softmax: http://neuralnetworksanddeeplearning.com/chap3.html#softmax\n",
    "\n",
    "You can picture our softmax regression as looking something like the following, although with a lot more inputs (X). For each output, we compute a weighted sum of the Xs, add a bias, and then apply softmax.\n",
    "<img src=https://www.tensorflow.org/images/softmax-regression-scalargraph.png width=\"35%\" height=\"35%\"/>\n",
    "\n",
    "Let's write that out as equations, we get:\n",
    "<img src=https://www.tensorflow.org/images/softmax-regression-scalarequation.png width=\"35%\" height=\"35%\" />\n",
    "An in a matrix format: \n",
    "<img src=https://www.tensorflow.org/images/softmax-regression-vectorequation.png width=\"35%\" height=\"35%\" />\n",
    "<br>The notation is: <math xmlns=\"http://www.w3.org/1998/Math/MathML\" display=\"block\">\n",
    "  <mi>y</mi>\n",
    "  <mo>=</mo>\n",
    "  <mtext>softmax</mtext>\n",
    "  <mo stretchy=\"false\">(</mo>\n",
    "  <mi>W</mi>\n",
    "  <mi>x</mi>\n",
    "  <mo>+</mo>\n",
    "  <mi>b</mi>\n",
    "  <mo stretchy=\"false\">)</mo>\n",
    "</math>\n",
    "\n",
    "## Gradient Descent\n",
    "\n",
    "<img src=http://blog.datumbox.com/wp-content/uploads/2013/10/gradient-descent.png />\n",
    "<img src=https://eli.thegreenplace.net/images/2016/plot-3d-parabola.png />\n",
    "\n",
    "\n",
    "### GPU\n",
    "let's watch it"
   ]
  },
  {
   "cell_type": "code",
   "execution_count": 2,
   "metadata": {
    "collapsed": false
   },
   "outputs": [
    {
     "data": {
      "image/jpeg": "[encoded data removed]",
      "text/html": [
       "\n",
       "        <iframe\n",
       "            width=\"400\"\n",
       "            height=\"300\"\n",
       "            src=\"https://www.youtube.com/embed/-P28LKWTzrI\"\n",
       "            frameborder=\"0\"\n",
       "            allowfullscreen\n",
       "        ></iframe>\n",
       "        "
      ],
      "text/plain": [
       "<IPython.lib.display.YouTubeVideo at 0x7f68fcd7cf60>"
      ]
     },
     "execution_count": 2,
     "metadata": {},
     "output_type": "execute_result"
    }
   ],
   "source": [
    "from IPython.display import YouTubeVideo\n",
    "# a talk about IPython at Sage Days at U. Washington, Seattle.\n",
    "# Video credit: William Stein.\n",
    "YouTubeVideo('-P28LKWTzrI')"
   ]
  },
  {
   "cell_type": "markdown",
   "metadata": {},
   "source": [
    "## Tensor Flow\n",
    "\n",
    "TensorFlow is a machine learning framework by Google. It offer many advantages, including making it very easy to use a __GPU__ <img src=https://www.youtube.com/watch?v=-P28LKWTzrI />\n",
    "It does its heavy lifting outside Python, but it takes things a step further to avoid data transfer overhead. Instead of running a single expensive operation independently from Python, TensorFlow lets us describe a graph of interacting operations that run entirely outside Python. (Approaches like this can be seen in a few machine learning libraries.)\n",
    "\n",
    "We describe these interacting operations by manipulating symbolic variables. We create one using for example:<br>\n",
    "`x = tf.placeholder(tf.float32, [None, 784])`\n",
    "\n",
    "To use TensorFlow, first we need to import it. "
   ]
  },
  {
   "cell_type": "code",
   "execution_count": 1,
   "metadata": {
    "collapsed": false
   },
   "outputs": [
    {
     "name": "stdout",
     "output_type": "stream",
     "text": [
      "Extracting MNIST_data/train-images-idx3-ubyte.gz\n",
      "Extracting MNIST_data/train-labels-idx1-ubyte.gz\n",
      "Extracting MNIST_data/t10k-images-idx3-ubyte.gz\n",
      "Extracting MNIST_data/t10k-labels-idx1-ubyte.gz\n"
     ]
    }
   ],
   "source": [
    "# reading data \n",
    "from tensorflow.examples.tutorials.mnist import input_data\n",
    "mnist = input_data.read_data_sets(\"MNIST_data/\", one_hot=True) # utility function provided with TensorFlows\n"
   ]
  },
  {
   "cell_type": "code",
   "execution_count": 3,
   "metadata": {
    "collapsed": true
   },
   "outputs": [],
   "source": [
    "import tensorflow as tf\n",
    "\n",
    "\n",
    "x = tf.placeholder(tf.float32, [None, 784])\n",
    "# x isn't a specific value. It's a placeholder, a value that we'll input when we ask TensorFlow to run a computation.\n",
    "# We want to be able to input any number of MNIST images, each flattened into a 784-dimensional vector. \n",
    "# We represent this as a 2-D tensor of floating-point numbers, with a shape [None, 784]. \n",
    "# (Here None means that a dimension can be of any length.)\n",
    "\n",
    "# we initialize both W and b as tensors full of zeros: \n",
    "W = tf.Variable(tf.zeros([784, 10])) # W has a shape of [784, 10] \n",
    "b = tf.Variable(tf.zeros([10])) #b has a shape of [10]\n",
    "\n",
    "y = tf.nn.softmax(tf.matmul(x, W) + b)\n"
   ]
  },
  {
   "cell_type": "markdown",
   "metadata": {},
   "source": [
    "<img src=https://www.tensorflow.org/images/softmax-regression-vectorequation.png width=\"35%\" height=\"35%\" />\n",
    "for brevity, we're showing y1..y3, but in our case we have 10 digits, so it'll be y1..y10 (essentially digits 0 to 9) \n"
   ]
  },
  {
   "cell_type": "markdown",
   "metadata": {},
   "source": [
    "## Gradient Descent\n",
    "\n",
    "<img src=http://blog.datumbox.com/wp-content/uploads/2013/10/gradient-descent.png />\n",
    "<img src=https://eli.thegreenplace.net/images/2016/plot-3d-parabola.png />"
   ]
  },
  {
   "cell_type": "code",
   "execution_count": 4,
   "metadata": {
    "collapsed": true
   },
   "outputs": [],
   "source": [
    "y_ = tf.placeholder(tf.float32, [None, 10])\n",
    "\n",
    "error = tf.reduce_mean(-tf.reduce_sum(y_ * tf.log(y), reduction_indices=[1]))\n",
    "train_step = tf.train.GradientDescentOptimizer(0.5).minimize(error) \n",
    "\n",
    "#boiler plate to start tensorflow\n",
    "sess = tf.InteractiveSession()\n",
    "tf.global_variables_initializer().run()\n",
    "\n",
    "for _ in range(550):\n",
    "  batch_xs, batch_ys = mnist.train.next_batch(100)\n",
    "  sess.run(train_step, feed_dict={x: batch_xs, y_: batch_ys})\n",
    "    "
   ]
  },
  {
   "cell_type": "code",
   "execution_count": 5,
   "metadata": {
    "collapsed": false
   },
   "outputs": [
    {
     "name": "stdout",
     "output_type": "stream",
     "text": [
      "0.9179\n"
     ]
    }
   ],
   "source": [
    "correct_prediction = tf.equal(tf.argmax(y,1), tf.argmax(y_,1))\n",
    "accuracy = tf.reduce_mean(tf.cast(correct_prediction, tf.float32))\n",
    "print(sess.run(accuracy, feed_dict={x: mnist.test.images, y_: mnist.test.labels}))"
   ]
  }
 ],
 "metadata": {
  "kernelspec": {
   "display_name": "Python 3",
   "language": "python",
   "name": "python3"
  },
  "language_info": {
   "codemirror_mode": {
    "name": "ipython",
    "version": 3
   },
   "file_extension": ".py",
   "mimetype": "text/x-python",
   "name": "python",
   "nbconvert_exporter": "python",
   "pygments_lexer": "ipython3",
   "version": "3.6.0"
  }
 },
 "nbformat": 4,
 "nbformat_minor": 2
}
